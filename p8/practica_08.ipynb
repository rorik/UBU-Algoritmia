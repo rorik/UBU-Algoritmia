{
 "cells": [
  {
   "cell_type": "markdown",
   "metadata": {},
   "source": [
    "# Algoritmia\n",
    "## Práctica 8\n",
    "En esta práctica se trabaja con el problema de la subsecuencia común más larga.\n",
    "\n",
    "En el cuerpo de cada función o método a implementar hay una instrucción \"pass\", se debe sustituir por la implementación adecuada. La implementación debe ser propia, sin incluir código ajeno o realizado conjuntamente. No se debe modificar el resto del código proporcionado.\n",
    "\n",
    "Para cada clase o función que se pide se proporcionan algunos tests. Las implementaciones deberían superar estos tests."
   ]
  },
  {
   "cell_type": "markdown",
   "metadata": {},
   "source": [
    "## Preámbulo\n",
    "No se puede importar de otros módulos, salvo que se consulte previamente con el profesor. "
   ]
  },
  {
   "cell_type": "code",
   "execution_count": null,
   "metadata": {},
   "outputs": [],
   "source": [
    "# Importaciones\n",
    "import unittest"
   ]
  },
  {
   "cell_type": "markdown",
   "metadata": {},
   "source": [
    "## Subsecuencia común más larga\n",
    "### Función `subsecuencia_comun_mas_larga`"
   ]
  },
  {
   "cell_type": "code",
   "execution_count": null,
   "metadata": {},
   "outputs": [],
   "source": [
    "def subsecuencia_comun_mas_larga(x, y):\n",
    "    \"\"\"\n",
    "    Dadas dos cadenas x e y devuelve una que es subsecuencia de ambas y que \n",
    "    tiene la longitud máxima de todas las subsecuencias comunes.\n",
    "    \"\"\"\n",
    "    \n",
    "    matrix = [[\"\" for j in y] for i in x]\n",
    "    \n",
    "    for i in range(len(x)):\n",
    "        for j in range(len(y)):\n",
    "            if x[i] == y[j]:\n",
    "                if i == 0 or j == 0:\n",
    "                    matrix[i][j] = x[i]\n",
    "                else:\n",
    "                    matrix[i][j] = matrix[i-1][j-1] + x[i]\n",
    "            else:\n",
    "                matrix[i][j] = max(matrix[i-1][j], matrix[i][j-1], key=len)\n",
    "\n",
    "    subsequence = matrix[-1][-1]\n",
    "    \n",
    "    return subsequence"
   ]
  },
  {
   "cell_type": "markdown",
   "metadata": {},
   "source": [
    "## Función `es_subsecuencia`\n",
    "Función que se usará en los tests"
   ]
  },
  {
   "cell_type": "code",
   "execution_count": null,
   "metadata": {},
   "outputs": [],
   "source": [
    "def es_subsecuencia(subsecuencia, secuencia):\n",
    "    \"\"\"Indica si el primer argumento es subsecuencia del segundo\"\"\"\n",
    "    \n",
    "    it = iter(secuencia)   \n",
    "    return all(c in it for c in subsecuencia)"
   ]
  },
  {
   "cell_type": "markdown",
   "metadata": {},
   "source": [
    "### Tests para `es_subsecuencia`"
   ]
  },
  {
   "cell_type": "code",
   "execution_count": null,
   "metadata": {},
   "outputs": [],
   "source": [
    "class TestEsSubsecuencia(unittest.TestCase):\n",
    "\n",
    "    def test_positivos(self):\n",
    "        \n",
    "        for subsecuencia, secuencia in (\n",
    "                (\"GTTC\", \"GTTCCTAATA\"),\n",
    "                (\"CCTA\", \"GTTCCTAATA\"),\n",
    "                (\"AATA\", \"GTTCCTAATA\"),\n",
    "                (\"GTCAT\", \"GTTCCTAATA\"),\n",
    "                (\"TCTAA\", \"GTTCCTAATA\"),\n",
    "                (\"GTTCCTAATA\", \"GTTCCTAATA\"),\n",
    "        ):\n",
    "            self.assertTrue(es_subsecuencia(subsecuencia, secuencia))\n",
    "            \n",
    "    def test_negativos(self):\n",
    "        \n",
    "        for subsecuencia, secuencia in (\n",
    "                (\"GTTCCTTATA\", \"GTTCCTAATA\"),\n",
    "                (\"GGTTCCTAATA\", \"GTTCCTAATA\"),            \n",
    "                (\"GTTCCTAATAA\", \"GTTCCTAATA\"),\n",
    "                (\"GG\", \"GTTCCTAATA\"), \n",
    "                (\"AC\", \"GTTCCTAATA\"), \n",
    "                (\"TGTCCTAATA\", \"GTTCCTAATA\"),\n",
    "                (\"ATAA\", \"GTTCCTAATA\"), \n",
    "\n",
    "        ):\n",
    "            self.assertFalse(es_subsecuencia(subsecuencia, secuencia))                 "
   ]
  },
  {
   "cell_type": "markdown",
   "metadata": {},
   "source": [
    "### Tests para `subsecuencia_comun_mas_larga`"
   ]
  },
  {
   "cell_type": "code",
   "execution_count": null,
   "metadata": {},
   "outputs": [],
   "source": [
    "class TestSubsecuenciaComunMasLarga(unittest.TestCase):\n",
    "\n",
    "    def test_subsecuencia_comun_mas_larga(self):\n",
    "        \n",
    "        for s1, s2, longitud in (\n",
    "            (\"GTTCCTAATA\", \"CGATAATTGAGA\", 6),\n",
    "            (\"ACDAADDADDDDCCBCBCAD\", \"ADBDBBCDBDAABBDDDCBB\", 11),\n",
    "            (\"BBDABCCADCCADADDCACAACBA\", \"DBCBBDCBADABBBCCCDCACAADDACADD\", 17),\n",
    "            (\"01111000000111100011\", \"10010100000100101111\", 14),\n",
    "            ('TTTATTTCGTCTAACTTATGACGTCCCTTCACGATCCAA',\n",
    "             'TGGCCGGTTATTCAAGAGCGATATGTGCTATAAAGTGCC', 23)\n",
    "        ):    \n",
    "            for x, y in ((s1, s2), (s2, s1)):\n",
    "                subsecuencia = subsecuencia_comun_mas_larga(x, y)\n",
    "                self.assertEqual(len(subsecuencia), longitud)\n",
    "                for secuencia in x, y:\n",
    "                    self.assertTrue(es_subsecuencia(subsecuencia, secuencia))                 "
   ]
  },
  {
   "cell_type": "markdown",
   "metadata": {},
   "source": [
    "## Todas las subsecuencias comunes más largas \n",
    "Variante en la que en vez de devolver una única subsecuencia se devuelven todas\n",
    "### Función `subsecuencias_comunes_mas_largas`"
   ]
  },
  {
   "cell_type": "code",
   "execution_count": null,
   "metadata": {},
   "outputs": [],
   "source": [
    "def subsecuencias_comunes_mas_largas(x, y):\n",
    "    \"\"\"\n",
    "    Dadas dos cadenas x e y devuelve un conjunto con todas las subsecuencias de \n",
    "    ambas que tienen longitud máxima.\n",
    "    \"\"\"\n",
    "    # Create a (x+1)*(y+1) matrix, with all elements None except the first row (all empty sets)\n",
    "    matrix = [[set()] * (len(y) + 1)] + [[None] * (len(y) + 1)  for _ in range(len(x))]\n",
    "\n",
    "    # Set all elements in the first column as empty sets\n",
    "    for i in range(1, len(x) + 1):\n",
    "        matrix[i][0] = set()\n",
    "\n",
    "    for i in range(1, len(x) + 1):\n",
    "        for j in range(1, len(y) + 1):\n",
    "            if x[i - 1] == y[j - 1]:\n",
    "                if len(matrix[i - 1][j - 1]) == 0:\n",
    "                    # Start of subsequence\n",
    "                    matrix[i][j] = set(x[i - 1])\n",
    "                else:\n",
    "                    # Continue subsequence, append char to all previous subsequences\n",
    "                    matrix[i][j] = set()\n",
    "                    for string in matrix[i - 1][j - 1]:\n",
    "                        matrix[i][j].add(string + x[i - 1])\n",
    "            else:\n",
    "                top = matrix[i - 1][j]\n",
    "                left = matrix[i][j - 1]\n",
    "                if len(top) == 0:\n",
    "                    # Subsequences on the left side only (might be an empty set)\n",
    "                    matrix[i][j] = left.copy()\n",
    "                else:\n",
    "                    if len(left) == 0:\n",
    "                        # Subsequences on the top side only\n",
    "                        matrix[i][j] = top.copy()\n",
    "                    else:\n",
    "                        # Subsequences on both sides\n",
    "                        top_rank = len(next(iter(top)))\n",
    "                        left_rank = len(next(iter(left)))\n",
    "                        if top_rank == left_rank:\n",
    "                            # Both are the same rank (longest subsequence length), unite both\n",
    "                            matrix[i][j] = left.union(top)\n",
    "                        elif top_rank > left_rank:\n",
    "                            # The top subsequences are longer\n",
    "                            matrix[i][j] = top.copy()\n",
    "                        else:\n",
    "                            # The left subsequences are longer\n",
    "                            matrix[i][j] = left.copy()\n",
    "\n",
    "    max_length = max([len(subsequence) for subsequence in matrix[-1][-1]])\n",
    "    return set([subsequence for subsequence in matrix[-1][-1] if len(subsequence) == max_length])"
   ]
  },
  {
   "cell_type": "markdown",
   "metadata": {},
   "source": [
    "### Tests para `subsecuencias_comunes_mas_largas`"
   ]
  },
  {
   "cell_type": "code",
   "execution_count": null,
   "metadata": {},
   "outputs": [],
   "source": [
    "class TestSubsecuenciasComunesMasLarga(unittest.TestCase):\n",
    "\n",
    "    def test_subsecuencias_comunes_mas_largas(self):\n",
    "        \n",
    "        for s1, s2, longitud, numero in ( \n",
    "                (\"GTTCCTAATA\", \"CGATAATTGAGA\", 6, 3),\n",
    "                (\"ACDAADDADDDDCCBCBCAD\", \"ADBDBBCDBDAABBDDDCBB\", 11, 4),\n",
    "                (\"BBDABCCADCCADADDCACAACBA\", \"DBCBBDCBADABBBCCCDCACAADDACADD\", \n",
    "                 17, 1),\n",
    "                (\"01111000000111100011\", \"10010100000100101111\", 14, 10),\n",
    "                ('TTTATTTCGTCTAACTTATGACGTCCCTTCACGATCCAA',\n",
    "                 'TGGCCGGTTATTCAAGAGCGATATGTGCTATAAAGTGCC', 23, 20)\n",
    "            \n",
    "        ):    \n",
    "            for x, y in ((s1, s2), (s2, s1)):\n",
    "                subsecuencias = subsecuencias_comunes_mas_largas(x, y)\n",
    "                self.assertTrue(isinstance(subsecuencias, set))\n",
    "                self.assertEqual(len(subsecuencias), numero)\n",
    "                for subsecuencia in subsecuencias:\n",
    "                    self.assertEqual(len(subsecuencia), longitud)\n",
    "                    for secuencia in x, y:\n",
    "                        self.assertTrue(es_subsecuencia(subsecuencia, secuencia))               "
   ]
  },
  {
   "cell_type": "markdown",
   "metadata": {},
   "source": [
    "## Ejecución de tests"
   ]
  },
  {
   "cell_type": "code",
   "execution_count": null,
   "metadata": {
    "scrolled": true
   },
   "outputs": [],
   "source": [
    "if __name__ == '__main__':\n",
    "    unittest.main(argv=['first-arg-is-ignored'], exit=False)"
   ]
  },
  {
   "cell_type": "code",
   "execution_count": null,
   "metadata": {},
   "outputs": [],
   "source": []
  }
 ],
 "metadata": {
  "kernelspec": {
   "display_name": "Python 3",
   "language": "python",
   "name": "python3"
  },
  "language_info": {
   "codemirror_mode": {
    "name": "ipython",
    "version": 3
   },
   "file_extension": ".py",
   "mimetype": "text/x-python",
   "name": "python",
   "nbconvert_exporter": "python",
   "pygments_lexer": "ipython3",
   "version": "3.7.0"
  }
 },
 "nbformat": 4,
 "nbformat_minor": 1
}
