{
 "cells": [
  {
   "cell_type": "markdown",
   "metadata": {},
   "source": [
    "## Algoritmia\n",
    "### Práctica 2\n",
    "El objetivo de esta práctica es definir clases y realizar implementaciones básicas del tipo grafo."
   ]
  },
  {
   "cell_type": "markdown",
   "metadata": {},
   "source": [
    "Se pide la implementación de las clases y/o funciones que aparecen a continuación. \n",
    "\n",
    "Las instrucción \"pass\" que aparecen en el cuerdo de las clases o funciones, se debe sustituir por la implementación adecuada. \n",
    "\n",
    "Para cada clase o función que se pide se proporciona una o más funciones con algunos tests. \n",
    "\n",
    "Al llamar a las funciones de test no debería saltar ninguna aserción."
   ]
  },
  {
   "cell_type": "markdown",
   "metadata": {},
   "source": [
    "### Clase abstracta para Grafos"
   ]
  },
  {
   "cell_type": "code",
   "execution_count": null,
   "metadata": {
    "collapsed": false
   },
   "outputs": [],
   "source": [
    "from abc import ABCMeta, abstractmethod\n",
    "\n",
    "class GrafoAbstracto(metaclass=ABCMeta):\n",
    "    \"\"\"Clase abstracta para trabajar con Grafos.\"\"\"\n",
    "\n",
    "    def __init__(self, dirigido = False):\n",
    "        \"\"\"Constructor. El argumento indica si el grafo es dirigido\"\"\"\n",
    "        self._dirigido = dirigido\n",
    "\n",
    "    def dirigido(self):\n",
    "        \"\"\"Indica si el grafo es o no dirigido\"\"\"\n",
    "        return self._dirigido\n",
    "\n",
    "    @abstractmethod\n",
    "    def __len__( self ):\n",
    "        \"\"\"Número de nodos del grafo.\"\"\"\n",
    "\n",
    "    @abstractmethod\n",
    "    def num_arcos(self):\n",
    "        \"\"\"Devuelve el número de arcos\"\"\"\n",
    "\n",
    "    @abstractmethod       \n",
    "    def inserta(self, nodo, destino = None, etiqueta = 1):\n",
    "        \"\"\"\n",
    "        Inserta un nodo al grafo (si destino es None) o un arco.\n",
    "        Si el arco ya existía se actualiza su etiqueta.\n",
    "        Si alguno de los nodos del arco no está en el grafo, se inserta.\n",
    "        Se supone que None no es una etiqueta válida.\n",
    "        \"\"\"\n",
    "\n",
    "    @abstractmethod       \n",
    "    def __contains__(self, nodo):\n",
    "        \"\"\"Indica si el nodo está en el grafo.\"\"\"      \n",
    "        \n",
    "    @abstractmethod        \n",
    "    def __getitem__(self, arco):\n",
    "        \"\"\"Dado un arco (un par de nodos) devuelve la etiqueta si el arco está\n",
    "        en el grafo, en caso contrario devuelve None\"\"\"\n",
    "\n",
    "    @abstractmethod        \n",
    "    def __iter__(self):\n",
    "        \"\"\"Iterador sobre los nodos del grafo\"\"\"\n",
    "\n",
    "    @abstractmethod\n",
    "    def vecinos(self, origen):\n",
    "        \"\"\"Devuelve un iterable de los pares (destino,etiqueta) para un nodo \n",
    "        origen dado\"\"\""
   ]
  },
  {
   "cell_type": "markdown",
   "metadata": {},
   "source": [
    "### Implementación basada en matrices de adyacencia\n",
    "Realizamos una implementación basada en [matrices de adyacencia](https://youtu.be/t-FHxHnUEoc)"
   ]
  },
  {
   "cell_type": "code",
   "execution_count": null,
   "metadata": {
    "collapsed": true
   },
   "outputs": [],
   "source": [
    "class GrafoMatriz(GrafoAbstracto):\n",
    "    \"\"\"\n",
    "    Implementación del tipo Grafo utilizando una matriz de adyacencia para \n",
    "    almacenar la información de los arcos.\n",
    "    La matriz podría ser una lista de lista.\n",
    "    \"\"\"\n",
    "\n",
    "    pass"
   ]
  },
  {
   "cell_type": "markdown",
   "metadata": {},
   "source": [
    "### Implementación basada en listas de adyacencia\n",
    "Realizamos una implementación basada en [listas de adyacencia](https://youtu.be/7cXY3ztIGjs)"
   ]
  },
  {
   "cell_type": "code",
   "execution_count": null,
   "metadata": {
    "collapsed": false
   },
   "outputs": [],
   "source": [
    "class GrafoListas(GrafoAbstracto):\n",
    "    \"\"\"\n",
    "    Implementación del tipo Grafo utilizando listas de adyacencia.\n",
    "    Cada nodo tiene asociada una 'lista' con la información de los arcos que\n",
    "    salen del nodo. \n",
    "    Dicha lista no tinene que ser necesariamente del tipo 'list' de Python.\n",
    "    \"\"\"\n",
    "\n",
    "    pass"
   ]
  },
  {
   "cell_type": "markdown",
   "metadata": {},
   "source": [
    "### Casos de prueba"
   ]
  },
  {
   "cell_type": "code",
   "execution_count": null,
   "metadata": {
    "collapsed": false
   },
   "outputs": [],
   "source": [
    "def test_grafo(grafo):\n",
    "    \"\"\"Función que prueba las funciones sobre grafos. Espera un grafo vacío.\"\"\"\n",
    "\n",
    "    num_final = 10  # número de nodos del grafo final\n",
    "    num_arcos = 0\n",
    "    conjunto_nodos = set()  # nodos que debería tener el grafo\n",
    "    conjunto_arcos = set()  # arcos que debería tener el grafo\n",
    "    \n",
    "    # Insertamos nodos y arcos en el grafo, comprobando que la información es \n",
    "    # coherente con lo que tenemos en conjunto_nodos y conjunto_arcos\n",
    "    for n in range(num_final):\n",
    "        assert len(grafo) == n\n",
    "        nodo_n = \"n\" + str(n)\n",
    "        grafo.inserta(nodo_n)\n",
    "        conjunto_nodos.add(nodo_n)\n",
    "        assert nodo_n in grafo \n",
    "        assert n not in grafo\n",
    "        for m in range(n):\n",
    "            nodo_m = \"n\" + str(m)\n",
    "            etiqueta = num_final * n + m\n",
    "            grafo.inserta(nodo_m, nodo_n, etiqueta)\n",
    "            conjunto_arcos.add((nodo_m, nodo_n, etiqueta))\n",
    "            num_arcos += 1\n",
    "            assert num_arcos == grafo.num_arcos()\n",
    "            assert grafo[nodo_m, nodo_n] == etiqueta\n",
    "            if grafo.dirigido():\n",
    "                assert grafo[nodo_n, nodo_m] == None\n",
    "            else:\n",
    "                assert grafo[nodo_n, nodo_m] == etiqueta\n",
    "                conjunto_arcos.add((nodo_n, nodo_m, etiqueta))\n",
    "    \n",
    "    # Recorremos comproabando los nodos y para cada nodo sus vecinos\n",
    "    for nodo_n in grafo:\n",
    "        assert nodo_n in conjunto_nodos\n",
    "        conjunto_nodos.remove(nodo_n)\n",
    "        for nodo_m, etiqueta in grafo.vecinos(nodo_n):\n",
    "            assert (nodo_n, nodo_m, etiqueta) in conjunto_arcos\n",
    "            conjunto_arcos.remove((nodo_n, nodo_m, etiqueta))\n",
    "            \n",
    "    # Comprobamos que hemos recorrido todos los nodos y arcos\n",
    "    assert len(conjunto_nodos) == 0\n",
    "    assert len(conjunto_arcos) == 0"
   ]
  },
  {
   "cell_type": "code",
   "execution_count": null,
   "metadata": {
    "collapsed": false
   },
   "outputs": [],
   "source": [
    "if __name__ == \"__main__\":     \n",
    "    test_grafo(GrafoMatriz(False))\n",
    "    test_grafo(GrafoMatriz(True))\n",
    "    print(\"OK\")"
   ]
  },
  {
   "cell_type": "code",
   "execution_count": null,
   "metadata": {
    "collapsed": false
   },
   "outputs": [],
   "source": [
    "if __name__ == \"__main__\":     \n",
    "    test_grafo(GrafoListas(False))\n",
    "    test_grafo(GrafoListas(True))\n",
    "    print(\"OK\")"
   ]
  },
  {
   "cell_type": "code",
   "execution_count": null,
   "metadata": {
    "collapsed": false
   },
   "outputs": [],
   "source": [
    "\"\"\"\n",
    "Con %timeit podemos ver el tiempo necesario para ejecutar una línea.\n",
    "Puede ejecutarla múltiples veces para tener una mejor estimación.\n",
    "Con %%timeit obtenemos el tiempo de ejecución de una celda.\n",
    "\"\"\"\n",
    "if __name__ == \"__main__\":  \n",
    "    %timeit test_grafo(GrafoMatriz(False))\n",
    "    %timeit test_grafo(GrafoMatriz(True))\n",
    "    %timeit test_grafo(GrafoListas(False))\n",
    "    %timeit test_grafo(GrafoListas(True))"
   ]
  }
 ],
 "metadata": {
  "anaconda-cloud": {},
  "kernelspec": {
   "display_name": "Python [default]",
   "language": "python",
   "name": "python3"
  },
  "language_info": {
   "codemirror_mode": {
    "name": "ipython",
    "version": 3
   },
   "file_extension": ".py",
   "mimetype": "text/x-python",
   "name": "python",
   "nbconvert_exporter": "python",
   "pygments_lexer": "ipython3",
   "version": "3.5.2"
  }
 },
 "nbformat": 4,
 "nbformat_minor": 1
}
