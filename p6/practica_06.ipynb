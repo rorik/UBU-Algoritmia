{
 "cells": [
  {
   "cell_type": "markdown",
   "metadata": {},
   "source": [
    "# Algoritmia\n",
    "## Práctica 6\n",
    "En esta práctica se trabaja con funciones que procesan elementos tal como se hace en \"divide y vencerás\".\n",
    "\n",
    "En el cuerpo de cada función o método a implementar hay una instrucción \"pass\", se debe sustituir por la implementación adecuada. La implementación debe ser propia, sin incluir código ajeno o realizado conjuntamente.\n",
    "\n",
    "Para cada clase o función que se pide se proporcionan algunos tests. Las implementaciones deberían superar estos tests."
   ]
  },
  {
   "cell_type": "markdown",
   "metadata": {},
   "source": [
    "## Preámbulo\n",
    "No se puede importar de otros módulos, salvo que se consulte previamente con el profesor. "
   ]
  },
  {
   "cell_type": "code",
   "execution_count": null,
   "metadata": {},
   "outputs": [],
   "source": [
    "# Importaciones\n",
    "import unittest"
   ]
  },
  {
   "cell_type": "markdown",
   "metadata": {},
   "source": [
    "## Divide y vencerás recursivo\n",
    "Aplicación del método divide y vecerás sobre una secuencia de elementos, con el número de divisiones indicado"
   ]
  },
  {
   "cell_type": "code",
   "execution_count": null,
   "metadata": {},
   "outputs": [],
   "source": [
    "def divide_y_venceras_recursivo(inferior, superior=None, divisiones=2):\n",
    "    \"\"\"\n",
    "    Dados los índices inferior y superior, genera la secuencia de índices\n",
    "    correspondiente a las llamadas recursivas que se realizan al dividir en \n",
    "    tantos subproblemas como el número de divisiones indicado. \n",
    "    Los subproblemas son de aproximadamente el mismo tamaño.\n",
    "    Si el número de elementos entre inferior y superior es menor que el número \n",
    "    de divisiones, se planteará un subproblema para cada elemento.\n",
    "    Los subproblemas se plantearán en orden ascendente: el primer problema \n",
    "    contendrá inferior, el último contendrá superior.\n",
    "    Si el número de elementos no es múltiplo del número de divisiones, los\n",
    "    primeros subproblemas tendrán un elemento más que los últimos.\n",
    "    Si superior es None, el primer argumento recibido será superior e inferior \n",
    "    será 0.\n",
    "    \"\"\"\n",
    "    \n",
    "    pass   "
   ]
  },
  {
   "cell_type": "markdown",
   "metadata": {},
   "source": [
    "### Tests para divide y vencerás recursivo"
   ]
  },
  {
   "cell_type": "code",
   "execution_count": null,
   "metadata": {},
   "outputs": [],
   "source": [
    "class TestDivideYVencerasRecursivo(unittest.TestCase):\n",
    "    \n",
    "    def setUp(self):\n",
    "        \n",
    "        self.generador = divide_y_venceras_recursivo    \n",
    "       \n",
    "    def test_0(self):\n",
    "                \n",
    "        esperados = [(0, 0)]\n",
    "        self.assertEqual(esperados, list(self.generador(0)))\n",
    "        \n",
    "    def test_1(self):       \n",
    "\n",
    "        esperados = [(0, 1), (0, 0), (1, 1)]\n",
    "        self.assertEqual(esperados, list(self.generador(1)))\n",
    "\n",
    "    def test_2(self):\n",
    "         \n",
    "        esperados = [(0, 2), (0, 1), (0, 0), (1, 1), (2, 2)]\n",
    "        self.assertEqual(esperados, list(self.generador(2)))\n",
    "\n",
    "    def test_3(self):\n",
    "         \n",
    "        esperados = [(0, 3), (0, 1), (0, 0), (1, 1), (2, 3), (2, 2), (3, 3)]\n",
    "        self.assertEqual(esperados, list(self.generador(3)))\n",
    "\n",
    "    def test_1_4(self):\n",
    "         \n",
    "        esperados = [(1, 4), (1, 2), (1, 1), (2, 2), (3, 4), (3, 3), (4, 4)]\n",
    "        self.assertEqual(esperados, list(self.generador(1, 4)))\n",
    "\n",
    "    def test_0_4_3(self):\n",
    "         \n",
    "        esperados = [(0, 4), (0, 1), (0, 0), (1, 1), (2, 3), (2, 2), (3, 3), \n",
    "                     (4, 4)]\n",
    "        self.assertEqual(esperados, list(self.generador(0, 4, 3)))\n",
    "\n",
    "    def test_0_9_3(self):\n",
    "         \n",
    "        esperados = [(0, 9), (0, 3), (0, 1), (0, 0), (1, 1), (2, 2), (3, 3), \n",
    "                     (4, 6), (4, 4), (5, 5), (6, 6), (7, 9), (7, 7), (8, 8), \n",
    "                     (9, 9)]\n",
    "        self.assertEqual(esperados, list(self.generador(0, 9, 3)))                        \n",
    " \n",
    "    def test_100(self):\n",
    "          \n",
    "        esperados = [(0, 100), (0, 50), (0, 25), (0, 12), (0, 6), (0, 3), \n",
    "                     (0, 1), (0, 0), (1, 1), (2, 3), (2, 2), (3, 3), (4, 6), \n",
    "                     (4, 5), (4, 4), (5, 5), (6, 6), (7, 12), (7, 9), (7, 8), \n",
    "                     (7, 7), (8, 8), (9, 9), (10, 12), (10, 11), (10, 10), \n",
    "                     (11, 11), (12, 12), (13, 25), (13, 19), (13, 16), (13, 14),\n",
    "                     (13, 13), (14, 14), (15, 16), (15, 15), (16, 16), (17, 19),\n",
    "                     (17, 18), (17, 17), (18, 18), (19, 19), (20, 25), (20, 22),\n",
    "                     (20, 21), (20, 20), (21, 21), (22, 22), (23, 25), (23, 24),\n",
    "                     (23, 23), (24, 24), (25, 25), (26, 50), (26, 38), (26, 32),\n",
    "                     (26, 29), (26, 27), (26, 26), (27, 27), (28, 29), (28, 28),\n",
    "                     (29, 29), (30, 32), (30, 31), (30, 30), (31, 31), (32, 32),\n",
    "                     (33, 38), (33, 35), (33, 34), (33, 33), (34, 34), (35, 35),\n",
    "                     (36, 38), (36, 37), (36, 36), (37, 37), (38, 38), (39, 50),\n",
    "                     (39, 44), (39, 41), (39, 40), (39, 39), (40, 40), (41, 41),\n",
    "                     (42, 44), (42, 43), (42, 42), (43, 43), (44, 44), (45, 50),\n",
    "                     (45, 47), (45, 46), (45, 45), (46, 46), (47, 47), (48, 50),\n",
    "                     (48, 49), (48, 48), (49, 49), (50, 50), (51, 100),\n",
    "                     (51, 75), (51, 63), (51, 57), (51, 54), (51, 52), (51, 51),\n",
    "                     (52, 52), (53, 54), (53, 53), (54, 54), (55, 57), (55, 56),\n",
    "                     (55, 55), (56, 56), (57, 57), (58, 63), (58, 60), (58, 59),\n",
    "                     (58, 58), (59, 59), (60, 60), (61, 63), (61, 62), (61, 61),\n",
    "                     (62, 62), (63, 63), (64, 75), (64, 69), (64, 66), (64, 65),\n",
    "                     (64, 64), (65, 65), (66, 66), (67, 69), (67, 68), (67, 67),\n",
    "                     (68, 68), (69, 69), (70, 75), (70, 72), (70, 71), (70, 70),\n",
    "                     (71, 71), (72, 72), (73, 75), (73, 74), (73, 73), (74, 74),\n",
    "                     (75, 75), (76, 100), (76, 88), (76, 82), (76, 79),\n",
    "                     (76, 77), (76, 76), (77, 77), (78, 79), (78, 78), (79, 79),\n",
    "                     (80, 82), (80, 81), (80, 80), (81, 81), (82, 82), (83, 88), \n",
    "                     (83, 85), (83, 84), (83, 83), (84, 84), (85, 85), (86, 88), \n",
    "                     (86, 87), (86, 86), (87, 87), (88, 88), (89, 100), \n",
    "                     (89, 94), (89, 91), (89, 90), (89, 89), (90, 90), (91, 91),\n",
    "                     (92, 94), (92, 93), (92, 92), (93, 93), (94, 94), \n",
    "                     (95, 100), (95, 97), (95, 96), (95, 95), (96, 96), \n",
    "                     (97, 97), (98, 100), (98, 99), (98, 98), (99, 99), \n",
    "                     (100, 100)]        \n",
    "        self.assertEqual(esperados, list(self.generador(100))) \n",
    "\n",
    "    def test_100_3(self):\n",
    "        \n",
    "        esperados = [(0, 100), (0, 33), (0, 11), (0, 3), (0, 1), (0, 0), (1, 1),\n",
    "                     (2, 2), (3, 3), (4, 7), (4, 5), (4, 4), (5, 5), (6, 6), \n",
    "                     (7, 7), (8, 11), (8, 9), (8, 8), (9, 9), (10, 10), \n",
    "                     (11, 11), (12, 22), (12, 15), (12, 13), (12, 12), (13, 13),\n",
    "                     (14, 14), (15, 15), (16, 19), (16, 17), (16, 16), (17, 17),\n",
    "                     (18, 18), (19, 19), (20, 22), (20, 20), (21, 21), (22, 22),\n",
    "                     (23, 33), (23, 26), (23, 24), (23, 23), (24, 24), (25, 25),\n",
    "                     (26, 26), (27, 30), (27, 28), (27, 27), (28, 28), (29, 29),\n",
    "                     (30, 30), (31, 33), (31, 31), (32, 32), (33, 33), (34, 67),\n",
    "                     (34, 45), (34, 37), (34, 35), (34, 34), (35, 35), (36, 36),\n",
    "                     (37, 37), (38, 41), (38, 39), (38, 38), (39, 39), (40, 40),\n",
    "                     (41, 41), (42, 45), (42, 43), (42, 42), (43, 43), (44, 44),\n",
    "                     (45, 45), (46, 56), (46, 49), (46, 47), (46, 46), (47, 47),\n",
    "                     (48, 48), (49, 49), (50, 53), (50, 51), (50, 50), (51, 51),\n",
    "                     (52, 52), (53, 53), (54, 56), (54, 54), (55, 55), (56, 56),\n",
    "                     (57, 67), (57, 60), (57, 58), (57, 57), (58, 58), (59, 59),\n",
    "                     (60, 60), (61, 64), (61, 62), (61, 61), (62, 62), (63, 63),\n",
    "                     (64, 64), (65, 67), (65, 65), (66, 66), (67, 67), \n",
    "                     (68, 100), (68, 78), (68, 71), (68, 69), (68, 68), \n",
    "                     (69, 69), (70, 70), (71, 71), (72, 75), (72, 73), (72, 72),\n",
    "                     (73, 73), (74, 74), (75, 75), (76, 78), (76, 76), (77, 77),\n",
    "                     (78, 78), (79, 89), (79, 82), (79, 80), (79, 79), (80, 80),\n",
    "                     (81, 81), (82, 82), (83, 86), (83, 84), (83, 83), (84, 84),\n",
    "                     (85, 85), (86, 86), (87, 89), (87, 87), (88, 88), (89, 89),\n",
    "                     (90, 100), (90, 93), (90, 91), (90, 90), (91, 91), \n",
    "                     (92, 92), (93, 93), (94, 97), (94, 95), (94, 94), (95, 95),\n",
    "                     (96, 96), (97, 97), (98, 100), (98, 98), (99, 99), \n",
    "                     (100, 100)] \n",
    "        self.assertEqual(esperados, list(self.generador(0, 100, 3)))"
   ]
  },
  {
   "cell_type": "markdown",
   "metadata": {},
   "source": [
    "## Divide y vencerás iterativo\n",
    "Genera los mismos valores que la versión recursiva de divide y vencerás, pero sin usar recursión."
   ]
  },
  {
   "cell_type": "code",
   "execution_count": null,
   "metadata": {},
   "outputs": [],
   "source": [
    "def divide_y_venceras_iterativo(inferior, superior=None, divisiones=2):\n",
    "    \"\"\"\n",
    "    Genera los mismos valores que divide_y_venceras_recursivo, pero sin usar \n",
    "    recursión.\n",
    "    \"\"\"\n",
    "    \n",
    "    pass   "
   ]
  },
  {
   "cell_type": "markdown",
   "metadata": {},
   "source": [
    "### Tests para divide y vencerás iterativo"
   ]
  },
  {
   "cell_type": "code",
   "execution_count": null,
   "metadata": {},
   "outputs": [],
   "source": [
    "class TestDivideYVencerasIterativo(TestDivideYVencerasRecursivo):\n",
    "    \n",
    "    def setUp(self):\n",
    "        \n",
    "        self.generador = divide_y_venceras_iterativo             "
   ]
  },
  {
   "cell_type": "markdown",
   "metadata": {},
   "source": [
    "## Divide y vencerás en anchura.\n",
    "Genera los mismos valores que las versiones recursiva e iterativa, pero ordenados de acuerdo a un recorrido en anchura (o por niveles) del árbol de traza."
   ]
  },
  {
   "cell_type": "code",
   "execution_count": null,
   "metadata": {},
   "outputs": [],
   "source": [
    "def divide_y_venceras_anchura(inferior, superior=None, divisiones = 2):\n",
    "    \"\"\"\n",
    "    Genera los mismos valores que divide_y_venceras_recursivo y\n",
    "    divide_y_venceras_iterativo, pero ordenados de acuerdo a un recorrido en\n",
    "    anchura (o por niveles) del árbol de traza.\n",
    "    \"\"\"\n",
    "    \n",
    "    pass     "
   ]
  },
  {
   "cell_type": "markdown",
   "metadata": {},
   "source": [
    "### Tests para divide y vencerás en anchura"
   ]
  },
  {
   "cell_type": "code",
   "execution_count": null,
   "metadata": {},
   "outputs": [],
   "source": [
    "class TestDivideYVencerasAnchura(unittest.TestCase):\n",
    "    \n",
    "    def setUp(self):\n",
    "        \n",
    "        self.generador = divide_y_venceras_anchura    \n",
    "       \n",
    "    def test_0(self):\n",
    "                \n",
    "        esperados = [(0, 0)]\n",
    "        self.assertEqual(esperados, list(self.generador(0)))\n",
    "        \n",
    "    def test_1(self):\n",
    "\n",
    "        esperados = [(0, 1), (0, 0), (1, 1)]\n",
    "        self.assertEqual(esperados, list(self.generador(1)))\n",
    "\n",
    "    def test_2(self):\n",
    "        \n",
    "        esperados = [(0, 2), (0, 1), (2, 2), (0, 0), (1, 1)]\n",
    "        self.assertEqual(esperados, list(self.generador(2)))\n",
    "    \n",
    "    def test_3(self):\n",
    "        \n",
    "        esperados = [(0, 3), (0, 1), (2, 3), (0, 0), (1, 1), (2, 2), (3, 3)]\n",
    "        self.assertEqual(esperados, list(self.generador(3)))\n",
    "    \n",
    "    def test_1_4(self):\n",
    "        \n",
    "        esperados = [(1, 4), (1, 2), (3, 4), (1, 1), (2, 2), (3, 3), (4, 4)]\n",
    "        self.assertEqual(esperados, list(self.generador(1, 4)))\n",
    "    \n",
    "    def test_0_4_3(self):\n",
    "        \n",
    "        esperados = [(0, 4), (0, 1), (2, 3), (4, 4), (0, 0), (1, 1), (2, 2), \n",
    "                     (3, 3)]\n",
    "        self.assertEqual(esperados, list(self.generador(0, 4, 3)))\n",
    "    \n",
    "    def test_0_9_3(self):\n",
    "        \n",
    "        esperados = [(0, 9), (0, 3), (4, 6), (7, 9), (0, 1), (2, 2), (3, 3), \n",
    "                     (4, 4), (5, 5), (6, 6), (7, 7), (8, 8), (9, 9), (0, 0), \n",
    "                     (1, 1)]\n",
    "        assert esperados == list(divide_y_venceras_anchura(0, 9, 3))                        \n",
    "\n",
    "    def test_20(self):\n",
    "        \n",
    "        esperados = [(0, 20), (0, 10), (11, 20), (0, 5), (6, 10), (11, 15), \n",
    "                     (16, 20), (0, 2), (3, 5), (6, 8), (9, 10), (11, 13), \n",
    "                     (14, 15), (16, 18), (19, 20), (0, 1), (2, 2), (3, 4), \n",
    "                     (5, 5), (6, 7), (8, 8), (9, 9), (10, 10), (11, 12), \n",
    "                     (13, 13), (14, 14), (15, 15), (16, 17), (18, 18), (19, 19),\n",
    "                     (20, 20), (0, 0), (1, 1), (3, 3), (4, 4), (6, 6), (7, 7), \n",
    "                     (11, 11), (12, 12), (16, 16), (17, 17)]\n",
    "        assert esperados == list(divide_y_venceras_anchura(20))\n",
    "\n",
    "    def test_0_20_3(self):        \n",
    "        \n",
    "        esperados = [(0, 20), (0, 6), (7, 13), (14, 20), (0, 2), (3, 4), (5, 6), \n",
    "                     (7, 9), (10, 11), (12, 13), (14, 16), (17, 18), (19, 20), \n",
    "                     (0, 0), (1, 1), (2, 2), (3, 3), (4, 4), (5, 5), (6, 6), \n",
    "                     (7, 7), (8, 8), (9, 9), (10, 10), (11, 11), (12, 12), \n",
    "                     (13, 13), (14, 14), (15, 15), (16, 16), (17, 17), (18, 18),\n",
    "                     (19, 19), (20, 20)]\n",
    "        self.assertEqual(esperados, list(self.generador(0, 20, 3)))     "
   ]
  },
  {
   "cell_type": "markdown",
   "metadata": {},
   "source": [
    "### Tests conjuntos\n",
    "Se comprueba que los resultados de los distintos métodos son coherentes."
   ]
  },
  {
   "cell_type": "code",
   "execution_count": null,
   "metadata": {},
   "outputs": [],
   "source": [
    "class TestDivideYVencerasTodos(unittest.TestCase):\n",
    "  \n",
    "    def test(self):\n",
    "        for n in range(100):\n",
    "            for d in range(2, 10):\n",
    "                lista = list(divide_y_venceras_recursivo(0, n, d))\n",
    "                self.assertEqual(lista, list(divide_y_venceras_iterativo(0, n, d)))\n",
    "                self.assertEqual(sorted(lista), \n",
    "                                 sorted(divide_y_venceras_anchura(0, n, d)))\n",
    "                \n",
    "                # comprobamos que cada elemento en el rango aparece por lo menos \n",
    "                # una vez\n",
    "                self.assertEqual(sorted({y for x in lista for y in x}), \n",
    "                                 list(range(n + 1)))"
   ]
  },
  {
   "cell_type": "markdown",
   "metadata": {},
   "source": [
    "## Ejecución de tests"
   ]
  },
  {
   "cell_type": "code",
   "execution_count": null,
   "metadata": {},
   "outputs": [],
   "source": [
    "if __name__ == '__main__':\n",
    "    unittest.main(argv=['first-arg-is-ignored'], exit=False)"
   ]
  }
 ],
 "metadata": {
  "kernelspec": {
   "display_name": "Python 3",
   "language": "python",
   "name": "python3"
  },
  "language_info": {
   "codemirror_mode": {
    "name": "ipython",
    "version": 3
   },
   "file_extension": ".py",
   "mimetype": "text/x-python",
   "name": "python",
   "nbconvert_exporter": "python",
   "pygments_lexer": "ipython3",
   "version": "3.7.1"
  }
 },
 "nbformat": 4,
 "nbformat_minor": 1
}
