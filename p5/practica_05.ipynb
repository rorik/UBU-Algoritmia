{
 "cells": [
  {
   "cell_type": "markdown",
   "metadata": {},
   "source": [
    "# Algoritmia\n",
    "## Práctica 5\n",
    "En esta práctica se implementan las estructuras unión pertenencia y el algoritmo de Kruskal.\n",
    "\n",
    "En el cuerpo de cada función o método a implementar hay una instrucción \"pass\", se debe sustituir por la implementación adecuada. La implementación debe ser propia, sin incluir código ajeno o realizado conjuntamente.\n",
    "\n",
    "Para cada clase o función que se pide se proporcionan algunos tests. Las implementaciones deberían superar estos tests."
   ]
  },
  {
   "cell_type": "markdown",
   "metadata": {},
   "source": [
    "## Preámbulo\n",
    "No se puede importar de otros módulos, salvo que se consulte previamente con el profesor. "
   ]
  },
  {
   "cell_type": "code",
   "execution_count": 2,
   "metadata": {},
   "outputs": [],
   "source": [
    "# Importaciones\n",
    "import random\n",
    "import unittest"
   ]
  },
  {
   "cell_type": "markdown",
   "metadata": {},
   "source": [
    "## Estructuras Unión-Pertenencia\n",
    "\n",
    "La clase `Particion` representa una [estructura Unión-Pertenencia](https://youtu.be/vB_mHriJQj0?list=PLCsrYL37r9imFQBPcJlZbOof35WNMtCDs)."
   ]
  },
  {
   "cell_type": "code",
   "execution_count": 3,
   "metadata": {},
   "outputs": [],
   "source": [
    "class Particion:\n",
    "    \"\"\"\n",
    "    Clase que implementa una partición de un conjunto en subconjuntos disjuntos.\n",
    "    Una partición se corresponde con una estructura Unión-Pertenencia.\n",
    "    \"\"\"\n",
    "\n",
    "    def __init__(self, iterable):\n",
    "        \"\"\"\n",
    "        Crea una partición con los elementos del iterable.\n",
    "        Inicialmente cada elemento forma un subconjunto.\n",
    "        \"\"\"\n",
    "        self.subcunjuntos = [iterable]\n",
    "        self.altura = [0] * len(iterable)\n",
    "        self.padre = [iterable]\n",
    "\n",
    "    def __len__(self):\n",
    "        \"\"\"Devuelve el número de subconjuntos en la partición.\"\"\"\n",
    "        \n",
    "        return len(self.subcunjuntos)\n",
    "\n",
    "    def numero(self, k=None):\n",
    "        \"\"\"\n",
    "        Devuelve el número de elementos del subconjunto al que pertenece el \n",
    "        elemento k. \n",
    "        Si k es None devuelve el número total de elementos.\n",
    "        \"\"\"\n",
    "        \n",
    "        if k is None:\n",
    "            return sum([len(i) for i in self.subcunjuntos])\n",
    "        \n",
    "        for i in self.subcunjuntos:\n",
    "            if k in i:\n",
    "                return len(i)\n",
    "        \n",
    "        return None\n",
    "            \n",
    "\n",
    "    def __getitem__(self, k):\n",
    "        \"\"\"\n",
    "        Devuelve el subconjunto al que pertenece el elemento k.\n",
    "        El subconjunto se identifica mediante uno de sus elementos.\n",
    "        \"\"\"\n",
    "        \n",
    "        for i in self.subcunjuntos:\n",
    "            if k in i:\n",
    "                return i\n",
    "        \n",
    "        return None\n",
    "\n",
    "    def __iter__(self):\n",
    "        \"\"\"\n",
    "        Devuelve un iterador sobre los subconjuntos.\n",
    "        Cada subconjunto se identifica mediante uno de sus elementos.\n",
    "        \"\"\"\n",
    "        \n",
    "        yield from self.subcunjuntos\n",
    "    \n",
    "    def une(self, a, b):\n",
    "        \"\"\"Une los subconjuntos a los que pertencen a y b.\"\"\"\n",
    "        i_a = None\n",
    "        i_b = None\n",
    "        for i in range(len(self)):\n",
    "            if a in self.subcunjuntos[i]:\n",
    "                i_a = i\n",
    "                if i_b is not None:\n",
    "                    break\n",
    "            if b in self.subcunjuntos[i]:\n",
    "                i_b = i\n",
    "                if i_a is not None:\n",
    "                    break\n",
    "        \n",
    "        if i_a is None or i_b is None:\n",
    "            return None\n",
    "        \n",
    "        if self.altura[i_a] == self.altura[i_b]:\n",
    "            self.altura[i_a] += 1\n",
    "            self.subcunjuntos[i_a].extend(self.subcunjuntos[i_b])\n",
    "            self.subcunjuntos.pop(i_b)\n",
    "            self.altura.pop(i_b)\n",
    "        elif self.altura[i_a] > self.altura[i_b]:\n",
    "            self.subcunjuntos[i_a].extend(self.subcunjuntos[i_b])\n",
    "            self.subcunjuntos.pop(i_b)\n",
    "            self.altura.pop(i_b)\n",
    "        else:\n",
    "            self.subcunjuntos[i_b].extend(self.subcunjuntos[i_a])\n",
    "            self.subcunjuntos.pop(i_a)\n",
    "            self.altura.pop(i_a)\n"
   ]
  },
  {
   "cell_type": "markdown",
   "metadata": {},
   "source": [
    "### Tests para la clase `Particion`"
   ]
  },
  {
   "cell_type": "code",
   "execution_count": 4,
   "metadata": {},
   "outputs": [],
   "source": [
    "class TestParticion(unittest.TestCase):\n",
    "    \n",
    "    def test_particion(self, n=100):\n",
    "        \"\"\"\n",
    "        Función que realiza varias pruebas sobre la clase Particion, \n",
    "        siendo n el número de elementos.\n",
    "        \"\"\"\n",
    "    \n",
    "        p = Particion(range(n))\n",
    "    \n",
    "        # Tenemos n elementos\n",
    "        self.assertEqual(p.numero(), n)        \n",
    "        \n",
    "        # Tenemos n subconjuntos\n",
    "        self.assertEqual(len(p), n)\n",
    "        \n",
    "        # Los elmentos 0, 1, ... n-1 están cada uno en un subconjunto \n",
    "        for v in range(n):\n",
    "            self.assertEqual(p.numero(v), 1)\n",
    "            self.assertEqual(p[v], v)\n",
    "    \n",
    "        # Comprobamos que tenemos los valores 0, 1, ... n-1\n",
    "        s = set(range(n))\n",
    "        for v in p:\n",
    "            self.assertEqual(p[v], v)\n",
    "            self.assertIn(v, s)\n",
    "            s.remove(v)\n",
    "        self.assertFalse(s)\n",
    "        \n",
    "        # Hacemos n - 1 uniones, comprobando la situación de la partición\n",
    "        for v in range(1, n):\n",
    "            self.assertEqual(p.numero(0), v)\n",
    "            self.assertEqual(p.numero(v), 1)\n",
    "            self.assertNotEqual(p[0], p[v])\n",
    "            self.assertNotEqual(p[v - 1], p[v])\n",
    "            p.une(0, v)\n",
    "            self.assertEqual(p[0], p[v])\n",
    "            self.assertEqual(p[v - 1], p[v])\n",
    "            self.assertEqual(len(p), n - v)\n",
    "    \n",
    "    def test_uniones_aleatorias(self, n=100, repeticiones=10, semilla=1):\n",
    "        \"\"\"\n",
    "        Partición con n elementos, en la que hacemos varias uniones aleatorias\n",
    "        sobre particiones de n elementos.\n",
    "        \"\"\"\n",
    "       \n",
    "        random.seed(semilla)\n",
    "        for i in range(repeticiones):\n",
    "            p = Particion(range(n))\n",
    "            s = set(range(n))\n",
    "            self.assertEqual(p.numero(), n)   \n",
    "            while len(p) > 1:\n",
    "                a, b = random.sample(s, 2)\n",
    "                self.assertNotEqual(p[a], p[b])\n",
    "                num = p.numero(a) + p.numero(b)\n",
    "                p.une(a, b)\n",
    "                self.assertEqual(p[a], p[b])\n",
    "                self.assertEqual(num, p.numero(a))\n",
    "                self.assertEqual(num, p.numero(b))\n",
    "                s.remove(b)\n",
    "                self.assertEqual(p.numero(), n)     "
   ]
  },
  {
   "cell_type": "markdown",
   "metadata": {},
   "source": [
    "## Algoritmo de Kruskal\n",
    "Se implementa el [algoritmo de Kruskal](https://youtu.be/jBH2QouXEWs?list=PLCsrYL37r9imFQBPcJlZbOof35WNMtCDs) para obtener el árbol extendido mínimo de un grafo."
   ]
  },
  {
   "cell_type": "markdown",
   "metadata": {},
   "source": [
    "### Funcion `arbol_extendido_kruskal`"
   ]
  },
  {
   "cell_type": "code",
   "execution_count": 33,
   "metadata": {},
   "outputs": [],
   "source": [
    "def arbol_extendido_kruskal(grafo):\n",
    "    \"\"\"\n",
    "    Dado un grafo devuelve otro grafo con el árbol expandido mínimo,\n",
    "    utilizando el algoritmo de Kruskal.\n",
    "    Los grafos son diccionario donde las claves son arcos (pares de nodos) y los\n",
    "    valores son el peso de los arcos.\n",
    "    \"\"\"\n",
    "    \n",
    "    pass"
   ]
  },
  {
   "cell_type": "markdown",
   "metadata": {},
   "source": [
    "### Tests para la función `arbol_extendido_kruskal`"
   ]
  },
  {
   "cell_type": "code",
   "execution_count": 152,
   "metadata": {},
   "outputs": [],
   "source": [
    "class TestArbolExtendidoKruskal(unittest.TestCase):\n",
    "    \n",
    "    def test_6_nodos_9_arcos(self):\n",
    "            \n",
    "        g = {(\"a\", \"b\"): 13, \n",
    "             (\"a\", \"c\"): 8,\n",
    "             (\"a\", \"d\"): 1,\n",
    "             (\"b\", \"c\"): 15,\n",
    "             (\"c\", \"d\"): 5,\n",
    "             (\"c\", \"e\"): 3,\n",
    "             (\"d\", \"e\"): 4,\n",
    "             (\"d\", \"f\"): 5,\n",
    "             (\"e\", \"f\"): 2}\n",
    "    \n",
    "        t = {(\"a\", \"b\"): 13, \n",
    "             (\"a\", \"d\"): 1,\n",
    "             (\"c\", \"e\"): 3,\n",
    "             (\"d\", \"e\"): 4,\n",
    "             (\"e\", \"f\"): 2}\n",
    "        \n",
    "        self.assertEqual(arbol_extendido_kruskal(g), t)\n",
    "    \n",
    "    def test_7_nodos_12_arcos(self):\n",
    "    \n",
    "        g = {(\"a\", \"b\"): 2, \n",
    "             (\"a\", \"c\"): 4,\n",
    "             (\"a\", \"d\"): 1,\n",
    "             (\"b\", \"d\"): 3,\n",
    "             (\"b\", \"e\"): 10,\n",
    "             (\"c\", \"d\"): 2,\n",
    "             (\"c\", \"f\"): 5,\n",
    "             (\"d\", \"e\"): 7,\n",
    "             (\"d\", \"f\"): 8,\n",
    "             (\"d\", \"g\"): 4,\n",
    "             (\"e\", \"g\"): 6,\n",
    "             (\"f\", \"g\"): 1}\n",
    "        \n",
    "        t = {(\"a\", \"b\"): 2, \n",
    "             (\"a\", \"d\"): 1,\n",
    "             (\"c\", \"d\"): 2,\n",
    "             (\"d\", \"g\"): 4,\n",
    "             (\"e\", \"g\"): 6,\n",
    "             (\"f\", \"g\"): 1}\n",
    "    \n",
    "        self.assertEqual(arbol_extendido_kruskal(g), t)\n",
    "        \n",
    "    def test_grafo_aleatorio(self, n=10, repeticiones=10, semilla=1):\n",
    "        \"\"\"Tests con grafos completos aleatorios de n nodos\"\"\"\n",
    "        \n",
    "        random.seed(semilla)\n",
    "        for _ in range(repeticiones):\n",
    "            \n",
    "            # Creamos el grafo\n",
    "            g = {(i, j): n + 1 for i in range(n - 1) for j in range(i + 1, n)}\n",
    "            for i in range(1, n + 1):\n",
    "                g[random.randint(0, i - 1), i] = i\n",
    "            t = arbol_extendido_kruskal(g)\n",
    "            \n",
    "            # Comprobamos que los arcos del árbol están en el grado y \n",
    "            # que el peso total es el esperado\n",
    "            total = 0\n",
    "            for arco, peso in t.items():\n",
    "                self.assertEqual(peso, g[arco])\n",
    "                total += peso\n",
    "            self.assertEqual(total, n * (n + 1) / 2)   "
   ]
  },
  {
   "cell_type": "markdown",
   "metadata": {},
   "source": [
    "## Ejecución de tests"
   ]
  },
  {
   "cell_type": "code",
   "execution_count": 5,
   "metadata": {},
   "outputs": [
    {
     "name": "stderr",
     "output_type": "stream",
     "text": [
      "F"
     ]
    },
    {
     "name": "stderr",
     "output_type": "stream",
     "text": [
      "."
     ]
    },
    {
     "name": "stderr",
     "output_type": "stream",
     "text": [
      "\n======================================================================\nFAIL: test_particion (__main__.TestParticion)\n----------------------------------------------------------------------\nTraceback (most recent call last):\n  File \"<ipython-input-4-7d336211b31f>\", line 15, in test_particion\n    self.assertEqual(len(p), n)\nAssertionError: 1 != 100\n\n----------------------------------------------------------------------\nRan 2 tests in 0.006s\n\nFAILED (failures=1)\n"
     ]
    }
   ],
   "source": [
    "if __name__ == '__main__':\n",
    "    unittest.main(argv=['first-arg-is-ignored'], exit=False)"
   ]
  },
  {
   "cell_type": "code",
   "execution_count": 6,
   "metadata": {},
   "outputs": [],
   "source": []
  },
  {
   "cell_type": "code",
   "execution_count": null,
   "metadata": {},
   "outputs": [],
   "source": []
  }
 ],
 "metadata": {
  "kernelspec": {
   "display_name": "Python 3",
   "language": "python",
   "name": "python3"
  },
  "language_info": {
   "codemirror_mode": {
    "name": "ipython",
    "version": 3
   },
   "file_extension": ".py",
   "mimetype": "text/x-python",
   "name": "python",
   "nbconvert_exporter": "python",
   "pygments_lexer": "ipython3",
   "version": "3.7.1"
  }
 },
 "nbformat": 4,
 "nbformat_minor": 1
}
