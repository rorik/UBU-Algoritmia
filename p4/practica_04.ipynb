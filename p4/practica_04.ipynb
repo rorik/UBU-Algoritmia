{
 "cells": [
  {
   "cell_type": "markdown",
   "metadata": {},
   "source": [
    "# Algoritmia\n",
    "## Práctica 4\n",
    "El objetivo de esta práctica es implementar algunos métodos voraces.\n",
    "\n",
    "En el cuerpo de cada función a implementar hay una instrucción \"pass\", se debe sustituir por la implementación adecuada. \n",
    "\n",
    "Para cada clase o función que se pide se proporcionan algunos tests. Las implementaciones deberían superar estos tests."
   ]
  },
  {
   "cell_type": "markdown",
   "metadata": {},
   "source": [
    "## Preámbulo"
   ]
  },
  {
   "cell_type": "code",
   "execution_count": 1,
   "metadata": {},
   "outputs": [],
   "source": [
    "# Importaciones\n",
    "import unittest\n",
    "from collections import Counter"
   ]
  },
  {
   "cell_type": "markdown",
   "metadata": {},
   "source": [
    "## Reparto de elementos\n",
    "\n",
    "Se dispone de varios elementos de valor numérico y de contenedores de una determinada capacidad (todos la misma).\n",
    "\n",
    "Los contenedores pueden almacenar elementos, siempre que la suma de elementos no supere su capacidad.\n",
    "\n",
    "Por ejemplo, los elementos podrían ser ficheros, los valores numéricos sus tamaños y los contenedores serían discos.\n",
    "\n",
    "Otro ejemplo serían objetos físicos, los valores serían sus pesos y los contenedores serían mochilas con una determinado peso máximo.\n",
    "\n",
    "Se quiere repartir los elementos en contenedores, de manera que todos los elementos estén en alguno de los contenedores.\n",
    "\n",
    "El objetivo sería minimizar el número de contenedores.\n",
    "\n",
    "Se plantea una solución voraz:\n",
    "- Mientras haya elementos fuera de los contenedores:\n",
    "\t- Empezar con un nuevo contenedor vacío.\n",
    "\t- Mientras haya elementos fuera que quepan en el contenedor actual:\n",
    "\t\t- Seleccionar un elemento con valor más grande que quepa en el contenedor y añadirlo.\n",
    "\n",
    "Esta solución voraz posiblemente no produzca la solución óptima."
   ]
  },
  {
   "cell_type": "markdown",
   "metadata": {},
   "source": [
    "### Función `reparte`"
   ]
  },
  {
   "cell_type": "code",
   "execution_count": 2,
   "metadata": {},
   "outputs": [],
   "source": [
    "def reparte(capacidad, elementos):\n",
    "    \"\"\"\n",
    "    Reparte los elementos en varios contenedores de una misma capacidad.\n",
    "    Los elementos son una colección de valores numéricos.\n",
    "    El resultado es una lista de listas, cada lista representa los elementos de \n",
    "    un contenedor.\n",
    "    \"\"\"\n",
    "    \n",
    "    cerrados = []\n",
    "    abiertos = []\n",
    "    for elemento in elementos:\n",
    "        destino = None\n",
    "        for contenedor in abiertos:\n",
    "            if sum(contenedor) + elemento <= capacidad:\n",
    "                destino = contenedor\n",
    "                break\n",
    "\n",
    "        if destino is None:\n",
    "            destino = []\n",
    "            abiertos.append(destino)\n",
    "\n",
    "        destino.append(elemento)\n",
    "\n",
    "        if sum(destino) == capacidad:\n",
    "            abiertos.remove(destino)\n",
    "            cerrados.append(destino)\n",
    "\n",
    "    return cerrados + abiertos\n"
   ]
  },
  {
   "cell_type": "markdown",
   "metadata": {},
   "source": [
    "### Tests para el reparto de elementos"
   ]
  },
  {
   "cell_type": "code",
   "execution_count": 3,
   "metadata": {},
   "outputs": [],
   "source": [
    "class TestReparte(unittest.TestCase):\n",
    "    \n",
    "    def estan_repartidos(self, capacidad, elementos, reparto):\n",
    "        \"\"\"\n",
    "        Comprueba si los elementos están repartidos de acuerdo a una determinada \n",
    "        capacidad.\n",
    "        \"\"\"\n",
    "\n",
    "        # En todos los contenedores se respeta la capacidad\n",
    "        self.assertTrue(\n",
    "            all(sum(contenedor) <= capacidad for contenedor in reparto))\n",
    "\n",
    "        # Los elementos en el reparto coinciden con los originales\n",
    "        self.assertEqual(\n",
    "            Counter(elementos),\n",
    "            Counter(elemento\n",
    "                    for contenedor in reparto\n",
    "                    for elemento in contenedor)\n",
    "        )\n",
    "        \n",
    "    def test_simple(self):\n",
    "        \"\"\" Primer caso de prueba simple \"\"\"\n",
    "        \n",
    "        capacidad = 10\n",
    "        elementos = 100*[1]\n",
    "        reparto = reparte(capacidad, elementos)\n",
    "        self.assertEqual(len(reparto), 10)\n",
    "        self.estan_repartidos(capacidad, elementos, reparto)\n",
    "        \n",
    "    def tests_varios(self):\n",
    "        \"\"\" Varios casos de prueba\"\"\"\n",
    "        \n",
    "        for capacidad, elementos, longitud in (\n",
    "            (10, 100*[1], 10),\n",
    "            (100, 1000*[1], 10),\n",
    "            (10, 100*[9], 100),\n",
    "            (10, 100*[4], 50),\n",
    "            (10, 100*[3], 34),\n",
    "            (10, 100*[6, 3], 100),\n",
    "            (10, 100*[6, 5, 4], 150),\n",
    "            (10, 100*[5, 1, 4, 3, 2], 150)\n",
    "        ):\n",
    "            reparto = reparte(capacidad, elementos)\n",
    "            self.assertEqual(len(reparto), longitud)\n",
    "            self.estan_repartidos(capacidad, elementos, reparto)"
   ]
  },
  {
   "cell_type": "markdown",
   "metadata": {},
   "source": [
    "## Selección voraz de conjuntos\n",
    "\n",
    "Se dispone de una secuencia de conjuntos. Los conjuntos pueden compartir elementos. La unión de todos los conjuntos en la secuencia es el conjunto _*S*_.\n",
    "\n",
    "Se quiere una secuencia con algunos de esos conjuntos, tal que la unión de los elementos en esa secuencia también sea _*S*_. \n",
    "\n",
    "El objetivo es minimizar la longitud de la secuencia (el número de conjuntos seleccionados).\n",
    "\n",
    "Se plantea la siguiente solución voraz:\n",
    "- Se empieza con una secuencia vacía.\n",
    "- Se selecciona el conjunto de la secuencia de entrada que tiene más elementos que no están en ninguno de los conjuntos ya seleccionados. \n",
    "- Se añade el conjunto seleccionado a la secuencia de salida.\n",
    "\n",
    "La secuencia conseguida con esta solución voraz posiblemente no sea óptima.\n"
   ]
  },
  {
   "cell_type": "markdown",
   "metadata": {},
   "source": [
    "### Función `seleccion_voraz`"
   ]
  },
  {
   "cell_type": "code",
   "execution_count": 4,
   "metadata": {},
   "outputs": [],
   "source": [
    "def seleccion_voraz(conjuntos):\n",
    "    \"\"\"\n",
    "    Dada una secuencia de conjuntos, devuelve otra, tal que los conjuntos \n",
    "    resultantes de la unión de los conjuntos de las secuencias de entrada y \n",
    "    salida coincidan.\n",
    "    La selección de conjuntos es voraz: se selecciona el conjunto que tenga más \n",
    "    elementos que no estén en ninguno de los conjuntos seleccionados \n",
    "    previamente.\n",
    "    Si varios conjuntos tienen el mismo número de elementos, se selecciona el\n",
    "    que esté primero en la secuencia de entrada.\n",
    "    La secuencia de salida será una lista, sus elementos deben aparecer en el \n",
    "    orden de selección.\n",
    "    \"\"\"\n",
    "    \n",
    "    abiertos = conjuntos.copy()\n",
    "    cerrados = []\n",
    "    resultado = []\n",
    "    while True:\n",
    "        maximo = [None, 0]\n",
    "        for conjunto in abiertos:\n",
    "            diferencia = len(conjunto.difference(cerrados))\n",
    "            if diferencia > maximo[1]:\n",
    "                maximo = [conjunto, diferencia]\n",
    "        if maximo[0] is None:\n",
    "            break\n",
    "        else:\n",
    "            abiertos.remove(maximo[0])\n",
    "            cerrados.extend(maximo[0])\n",
    "            resultado.append(maximo[0])\n",
    "    return resultado\n"
   ]
  },
  {
   "cell_type": "markdown",
   "metadata": {},
   "source": [
    "### Tests para la selección voraz"
   ]
  },
  {
   "cell_type": "code",
   "execution_count": 5,
   "metadata": {},
   "outputs": [],
   "source": [
    "class TestSeleccionVoraz(unittest.TestCase):\n",
    "    \n",
    "    def test_1(self):\n",
    "        self.assertEqual(\n",
    "            seleccion_voraz([{1, 2, 3}, {2, 4}, {3, 4}, {4, 5}]), \n",
    "            [{1, 2, 3}, {4, 5}])       \n",
    "\n",
    "    def test_2(self):\n",
    "        self.assertEqual(\n",
    "            seleccion_voraz([{1, 2, 3}, {2, 3, 4}, {3, 4, 5}]),\n",
    "            [{1, 2, 3}, {3, 4, 5}]\n",
    "        )\n",
    "              \n",
    "    def test_3(self):\n",
    "        self.assertEqual(\n",
    "            seleccion_voraz([{1, 2}, {2, 3}, {3, 4}, {4, 5}]),\n",
    "            [{1, 2}, {3, 4}, {4, 5}]\n",
    "        )\n",
    "\n",
    "    def test_4(self):\n",
    "        self.assertEqual(\n",
    "            seleccion_voraz([{1, 2, 3, 4}, {5, 6, 7}, {8}, {9}, {1, 4, 7}, \n",
    "                             {8, 2, 5}, {9, 3, 6}]),\n",
    "            [{1, 2, 3, 4}, {5, 6, 7}, {8}, {9}]\n",
    "        )\n",
    "        \n",
    "    def test_5(self):\n",
    "        self.assertEqual(\n",
    "            seleccion_voraz([{1, 4, 7}, {1, 2, 3, 4}, {5, 6, 7}, {8}, {9},  \n",
    "                             {8, 2, 5}, {9, 3, 6}]),\n",
    "            [{1, 2, 3, 4}, {5, 6, 7}, {8}, {9}]\n",
    "        )\n",
    "        \n",
    "    def es_seleccion(self, originales, seleccionados):\n",
    "        \"\"\"\n",
    "        Comprueba si las uniones de originales y seleccionados contienen los \n",
    "        mismos elementos y todos los seleccionados están en los originales.\n",
    "        \"\"\"\n",
    "        \n",
    "        self.assertEqual(\n",
    "            {elemento for conjunto in originales for elemento in conjunto},\n",
    "            {elemento for conjunto in seleccionados for elemento in conjunto}\n",
    "        )\n",
    "        \n",
    "        for conjunto in seleccionados:\n",
    "            self.assertTrue(conjunto in originales)\n",
    "        \n",
    "    def test_multiplos(self):\n",
    "        \"\"\"Los conjuntos están formados por múltiplos de enteros\"\"\"\n",
    "        \n",
    "        for maximo, longitud in (\n",
    "            (10, 4),\n",
    "            (100, 25),\n",
    "            (1000, 168)\n",
    "        ):\n",
    "            conjuntos = []\n",
    "            for i in range(2, maximo):\n",
    "                conjuntos.append(set(range(i, maximo, i)))\n",
    "            seleccionados = seleccion_voraz(conjuntos)\n",
    "            self.assertEqual(longitud, len(seleccionados))\n",
    "            self.es_seleccion(conjuntos, seleccionados)"
   ]
  },
  {
   "cell_type": "markdown",
   "metadata": {},
   "source": [
    "## Ejecución de tests"
   ]
  },
  {
   "cell_type": "code",
   "execution_count": 6,
   "metadata": {},
   "outputs": [
    {
     "name": "stderr",
     "output_type": "stream",
     "text": [
      "........\n",
      "----------------------------------------------------------------------\n",
      "Ran 8 tests in 9.971s\n",
      "\n",
      "OK\n"
     ]
    }
   ],
   "source": [
    "if __name__ == '__main__':\n",
    "    unittest.main(argv=['first-arg-is-ignored'], exit=False)"
   ]
  }
 ],
 "metadata": {
  "kernelspec": {
   "display_name": "Python 3",
   "language": "python",
   "name": "python3"
  },
  "language_info": {
   "codemirror_mode": {
    "name": "ipython",
    "version": 3
   },
   "file_extension": ".py",
   "mimetype": "text/x-python",
   "name": "python",
   "nbconvert_exporter": "python",
   "pygments_lexer": "ipython3",
   "version": "3.7.2"
  }
 },
 "nbformat": 4,
 "nbformat_minor": 1
}
