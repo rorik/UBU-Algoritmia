{
 "cells": [
  {
   "cell_type": "markdown",
   "metadata": {},
   "source": [
    "# Algoritmia\n",
    "## Práctica 9\n",
    "En esta práctica se implementa el algoritmo de Floyd para obtener los caminos mínimos entre todos los pares de nodos de un grafo..\n",
    "\n",
    "En el cuerpo de cada función o método a implementar hay una instrucción \"pass\", se debe sustituir por la implementación adecuada. La implementación debe ser propia, sin incluir código ajeno o realizado conjuntamente. No se debe modificar el resto del código proporcionado.\n",
    "\n",
    "Para cada clase o función que se pide se proporcionan algunos tests. Las implementaciones deberían superar estos tests."
   ]
  },
  {
   "cell_type": "markdown",
   "metadata": {},
   "source": [
    "## Preámbulo\n",
    "No se puede importar de otros módulos, salvo que se consulte previamente con el profesor. "
   ]
  },
  {
   "cell_type": "code",
   "execution_count": 2,
   "metadata": {
    "pycharm": {
     "is_executing": false
    }
   },
   "outputs": [],
   "source": [
    "# Importaciones\n",
    "import unittest"
   ]
  },
  {
   "cell_type": "markdown",
   "metadata": {},
   "source": [
    "## Algoritmo de Floyd\n",
    "### Clase `CaminosMinimosFloyd`"
   ]
  },
  {
   "cell_type": "code",
   "execution_count": 3,
   "metadata": {
    "pycharm": {
     "is_executing": false
    }
   },
   "outputs": [],
   "source": [
    "class CaminosMinimosFloyd:\n",
    "    \"\"\"\n",
    "    Clase para representar los caminos mínimos entre todos los nodos de un grafo.\n",
    "    Los caminos deben calcularse con el algoritmo de Floyd.\n",
    "    El espacio de almacenamiento debe ser O(n^2), siendo n el número de nodos.\n",
    "    \"\"\"\n",
    "\n",
    "    def __init__(self, grafo):\n",
    "        \"\"\"\n",
    "        Constructor que recibe el grafo sobre el que calcular los caminos\n",
    "        mínimos.\n",
    "        El grafo que se recibe es un diccionario donde las claves son arcos \n",
    "        (pares de nodos) y los valores son el peso de los arcos.\n",
    "        \"\"\"\n",
    "        \n",
    "        # Get all the nodes and remove all the duplicates\n",
    "        vertices = list(set([node for edge in grafo.keys() for node in edge]))\n",
    "        # Create a dict mapping each node with its corresponding index\n",
    "        self._vertices_indices = {}\n",
    "        for i, node in enumerate(vertices):\n",
    "            self._vertices_indices[node] = i\n",
    "        # Get the infinite distance (in this implementation it's the distance of the longest non-cyclic path + 1)\n",
    "        inf = sum(grafo.values()) + 1\n",
    "        # Initialize the dist and next matrices\n",
    "        self._dist = [[inf] * len(vertices) for _ in range(len(vertices))]\n",
    "        self._next = [[None] * len(vertices) for _ in range(len(vertices))]\n",
    "        # Set all the given weights\n",
    "        for edge, weight in grafo.items():\n",
    "            origin, target = self._vertices_indices[edge[0]], self._vertices_indices[edge[1]]\n",
    "            self._dist[origin][target] = weight\n",
    "            self._next[origin][target] = vertices[target]\n",
    "        # Set to 0 the distance between a vertex and itself\n",
    "        for i in range(len(vertices)):\n",
    "            self._dist[i][i] = 0\n",
    "            self._next[i][i] = vertices[i]\n",
    "        # Floyd-Warshall algorithm\n",
    "        for k in range(len(vertices)):\n",
    "            for i in range(len(vertices)):\n",
    "                for j in range(len(vertices)):\n",
    "                    if self._dist[i][j] > self._dist[i][k] + self._dist[k][j]:\n",
    "                        self._dist[i][j] = self._dist[i][k] + self._dist[k][j]\n",
    "                        self._next[i][j] = self._next[i][k]\n",
    "              \n",
    "    def distancia(self, origen, destino):\n",
    "        \"\"\"\n",
    "        Devuelve la distancia del camino mínimo ente origen y destino.\n",
    "        Si no hay camino devuelve None.\n",
    "        \"\"\"\n",
    "\n",
    "        if self._next[self._vertices_indices[origen]][self._vertices_indices[destino]] is None:\n",
    "            return None\n",
    "\n",
    "        return self._dist[self._vertices_indices[origen]][self._vertices_indices[destino]]\n",
    "        \n",
    "    def camino(self, origen, destino):\n",
    "        \"\"\"\n",
    "        Devuelve en una lista de nodos el camino mínimo entre origen y\n",
    "        destino.\n",
    "        Si no hay camino devuelve None.\n",
    "        \"\"\"\n",
    "\n",
    "        if self._next[self._vertices_indices[origen]][self._vertices_indices[destino]] is None:\n",
    "            return None\n",
    "\n",
    "        path = [origen]\n",
    "        position = origen\n",
    "        while position is not destino:\n",
    "            position = self._next[self._vertices_indices[position]][self._vertices_indices[destino]]\n",
    "            path.append(position)\n",
    "\n",
    "        return path"
   ]
  },
  {
   "cell_type": "markdown",
   "metadata": {},
   "source": [
    "### Tests para la clase `CaminosMinimosFloyd`"
   ]
  },
  {
   "cell_type": "code",
   "execution_count": 4,
   "metadata": {
    "pycharm": {
     "is_executing": false
    }
   },
   "outputs": [],
   "source": [
    "class TestCaminosMinimosFloyd(unittest.TestCase):\n",
    "    \"\"\"Tests para la clase CaminosMinimosFloyd.\"\"\"\n",
    "\n",
    "    def test_7_nodos_12_arcos(self):       \n",
    "        \n",
    "        grafo = {\n",
    "            (\"a\", \"b\"): 2, \n",
    "            (\"a\", \"d\"): 1, \n",
    "            (\"b\", \"d\"): 3, \n",
    "            (\"b\", \"e\"): 10,\n",
    "            (\"c\", \"a\"): 4,\n",
    "            (\"c\", \"f\"): 5,\n",
    "            (\"d\", \"c\"): 2,\n",
    "            (\"d\", \"e\"): 7,\n",
    "            (\"d\", \"f\"): 8,\n",
    "            (\"d\", \"g\"): 4,\n",
    "            (\"e\", \"g\"): 6,\n",
    "            (\"g\", \"f\"): 1\n",
    "        }\n",
    "        \n",
    "        caminos = CaminosMinimosFloyd(grafo)\n",
    "        \n",
    "        for origen, destino, distancia, camino in (\n",
    "            (\"a\", \"a\", 0, [\"a\"]),\n",
    "            (\"a\", \"b\", 2, [\"a\", \"b\"]),\n",
    "            (\"a\", \"c\", 3, [\"a\", \"d\", \"c\"]),\n",
    "            (\"a\", \"d\", 1, [\"a\", \"d\"]),\n",
    "            (\"a\", \"e\", 8, [\"a\", \"d\", \"e\"]),\n",
    "            (\"a\", \"f\", 6, [\"a\", \"d\", \"g\", \"f\"]),\n",
    "            (\"a\", \"g\", 5, [\"a\", \"d\", \"g\"]),\n",
    "            (\"b\", \"a\", 9, [\"b\", \"d\", \"c\", \"a\"]),\n",
    "            (\"c\", \"e\", 12, [\"c\", \"a\", \"d\", \"e\"]),\n",
    "            (\"d\", \"b\", 8, [\"d\", \"c\", \"a\", \"b\"]),\n",
    "            (\"e\", \"f\", 7, [\"e\", \"g\", \"f\"]),\n",
    "            (\"e\", \"a\", None, None),\n",
    "            (\"f\", \"d\", None, None)\n",
    "        ):\n",
    "            self.assertEqual(caminos.distancia(origen, destino), distancia)\n",
    "            self.assertEqual(caminos.camino(origen, destino), camino)"
   ]
  },
  {
   "cell_type": "markdown",
   "metadata": {},
   "source": [
    "## Ejecución de tests"
   ]
  },
  {
   "cell_type": "code",
   "execution_count": 5,
   "metadata": {
    "pycharm": {
     "is_executing": false
    }
   },
   "outputs": [
    {
     "name": "stderr",
     "text": [
      ".",
      "\n----------------------------------------------------------------------\nRan 1 test in 0.002s\n\nOK\n"
     ],
     "output_type": "stream"
    }
   ],
   "source": [
    "if __name__ == '__main__':\n",
    "    unittest.main(argv=['first-arg-is-ignored'], exit=False)"
   ]
  }
 ],
 "metadata": {
  "kernelspec": {
   "display_name": "Python 3",
   "language": "python",
   "name": "python3"
  },
  "language_info": {
   "codemirror_mode": {
    "name": "ipython",
    "version": 3
   },
   "file_extension": ".py",
   "mimetype": "text/x-python",
   "name": "python",
   "nbconvert_exporter": "python",
   "pygments_lexer": "ipython3",
   "version": "3.7.1"
  },
  "pycharm": {
   "stem_cell": {
    "cell_type": "raw",
    "source": [],
    "metadata": {
     "collapsed": false
    }
   }
  }
 },
 "nbformat": 4,
 "nbformat_minor": 1
}